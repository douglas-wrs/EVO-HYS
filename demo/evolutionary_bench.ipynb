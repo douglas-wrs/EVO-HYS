{
 "cells": [
  {
   "cell_type": "code",
   "execution_count": 1,
   "metadata": {},
   "outputs": [],
   "source": [
    "import warnings\n",
    "warnings.filterwarnings('ignore')\n",
    "import spectral.io.envi as envi\n",
    "import scipy.io as sio\n",
    "import matplotlib.pyplot as plt\n",
    "import math\n",
    "import random\n",
    "import numpy as np\n",
    "import scipy as sp\n",
    "from scipy import linalg\n",
    "import array\n",
    "import sys\n",
    "sys.path.append('../source/endmembers')\n",
    "import evolutionary\n",
    "import helpers.auxiliar as auxiliar\n",
    "import pandas as pd\n",
    "import seaborn as sns;\n",
    "sns.color_palette(\"pastel\",7);\n",
    "from functools import reduce\n",
    "envi_data = envi.open('../data/real/cuprite/cuprite.hdr')\n",
    "envi = envi_data[:,:,:]\n",
    "cuprite_path = '../data/real/cuprite/cuprite.mat'\n",
    "data = sio.loadmat(cuprite_path)\n",
    "gt_cuprite_path = '../data/real/cuprite/cuprite.gt'\n",
    "gt = sio.loadmat(gt_cuprite_path)\n",
    "M_gt = gt['M']\n",
    "aux = M_gt[data['SlectBands']]\n",
    "M_gt = aux.reshape((aux.shape[0],aux.shape[2]))[1:,:]\n",
    "Y = data['Y'][1:,:]\n",
    "number_rows = data['nRow'][0][0]\n",
    "number_columns = data['nCol'][0][0]\n",
    "number_pixels = int(number_rows)*int(number_columns)\n",
    "number_endmembers = M_gt.shape[1]\n",
    "number_bands = Y.shape[0]\n",
    "dimensions = [number_rows, number_columns, number_bands]\n",
    "r = 4\n",
    "c = 3"
   ]
  },
  {
   "cell_type": "code",
   "execution_count": 2,
   "metadata": {},
   "outputs": [],
   "source": [
    "selected_bands = data['SlectBands'].T[0]\n",
    "gtreal_cuprite_path = '../data/real/cuprite/cuprite.gtreal'\n",
    "gtreal = sio.loadmat(gtreal_cuprite_path)\n",
    "ground_truth = gtreal['M'].T\n",
    "null_bands = list(set(list(range(1,len(ground_truth)))) - set(selected_bands))\n",
    "ground_truth[null_bands,:] = None"
   ]
  },
  {
   "cell_type": "markdown",
   "metadata": {},
   "source": [
    "![alt text](tetracorder.png \"Title\")"
   ]
  },
  {
   "cell_type": "markdown",
   "metadata": {},
   "source": [
    "# Ground Truth USGS Cuprite Tetracorde"
   ]
  },
  {
   "cell_type": "code",
   "execution_count": 3,
   "metadata": {},
   "outputs": [
    {
     "ename": "TypeError",
     "evalue": "'int' object is not subscriptable",
     "output_type": "error",
     "traceback": [
      "\u001b[0;31m---------------------------------------------------------------------------\u001b[0m",
      "\u001b[0;31mTypeError\u001b[0m                                 Traceback (most recent call last)",
      "\u001b[0;32m<ipython-input-3-e795f789cfaf>\u001b[0m in \u001b[0;36m<module>\u001b[0;34m\u001b[0m\n\u001b[0;32m----> 1\u001b[0;31m \u001b[0mauxiliar\u001b[0m\u001b[0;34m.\u001b[0m\u001b[0mplot_endmembers\u001b[0m\u001b[0;34m(\u001b[0m\u001b[0mground_truth\u001b[0m\u001b[0;34m,\u001b[0m\u001b[0;36m34\u001b[0m\u001b[0;34m,\u001b[0m\u001b[0;34m'r'\u001b[0m\u001b[0;34m,\u001b[0m\u001b[0;36m4\u001b[0m\u001b[0;34m,\u001b[0m\u001b[0;36m3\u001b[0m\u001b[0;34m)\u001b[0m\u001b[0;34m\u001b[0m\u001b[0m\n\u001b[0m",
      "\u001b[0;32m~/Workspace/evolutionary-hyperspectral-unmixing/source/endmembers/helpers/auxiliar.py\u001b[0m in \u001b[0;36mplot_endmembers\u001b[0;34m(M, q, names, color, dimensions)\u001b[0m\n\u001b[1;32m     66\u001b[0m \u001b[0;32mdef\u001b[0m \u001b[0mplot_endmembers\u001b[0m\u001b[0;34m(\u001b[0m\u001b[0mM\u001b[0m\u001b[0;34m,\u001b[0m\u001b[0mq\u001b[0m\u001b[0;34m,\u001b[0m \u001b[0mnames\u001b[0m\u001b[0;34m,\u001b[0m \u001b[0mcolor\u001b[0m\u001b[0;34m,\u001b[0m \u001b[0mdimensions\u001b[0m\u001b[0;34m)\u001b[0m\u001b[0;34m:\u001b[0m\u001b[0;34m\u001b[0m\u001b[0m\n\u001b[1;32m     67\u001b[0m     \u001b[0mk\u001b[0m \u001b[0;34m=\u001b[0m \u001b[0;36m0\u001b[0m\u001b[0;34m\u001b[0m\u001b[0m\n\u001b[0;32m---> 68\u001b[0;31m     \u001b[0mf\u001b[0m\u001b[0;34m,\u001b[0m \u001b[0maxarr\u001b[0m \u001b[0;34m=\u001b[0m \u001b[0mplt\u001b[0m\u001b[0;34m.\u001b[0m\u001b[0msubplots\u001b[0m\u001b[0;34m(\u001b[0m\u001b[0mdimensions\u001b[0m\u001b[0;34m[\u001b[0m\u001b[0;36m0\u001b[0m\u001b[0;34m]\u001b[0m\u001b[0;34m,\u001b[0m \u001b[0mdimensions\u001b[0m\u001b[0;34m[\u001b[0m\u001b[0;36m1\u001b[0m\u001b[0;34m]\u001b[0m\u001b[0;34m)\u001b[0m\u001b[0;34m\u001b[0m\u001b[0m\n\u001b[0m\u001b[1;32m     69\u001b[0m     \u001b[0;32mfor\u001b[0m \u001b[0mi\u001b[0m \u001b[0;32min\u001b[0m \u001b[0mrange\u001b[0m\u001b[0;34m(\u001b[0m\u001b[0;36m0\u001b[0m\u001b[0;34m,\u001b[0m\u001b[0mdimensions\u001b[0m\u001b[0;34m[\u001b[0m\u001b[0;36m0\u001b[0m\u001b[0;34m]\u001b[0m\u001b[0;34m)\u001b[0m\u001b[0;34m:\u001b[0m\u001b[0;34m\u001b[0m\u001b[0m\n\u001b[1;32m     70\u001b[0m         \u001b[0;32mfor\u001b[0m \u001b[0mj\u001b[0m \u001b[0;32min\u001b[0m \u001b[0mrange\u001b[0m\u001b[0;34m(\u001b[0m\u001b[0;36m0\u001b[0m\u001b[0;34m,\u001b[0m\u001b[0mdimensions\u001b[0m\u001b[0;34m[\u001b[0m\u001b[0;36m1\u001b[0m\u001b[0;34m]\u001b[0m\u001b[0;34m)\u001b[0m\u001b[0;34m:\u001b[0m\u001b[0;34m\u001b[0m\u001b[0m\n",
      "\u001b[0;31mTypeError\u001b[0m: 'int' object is not subscriptable"
     ]
    }
   ],
   "source": [
    "auxiliar.plot_endmembers(ground_truth,34,'r',4,3)"
   ]
  },
  {
   "cell_type": "code",
   "execution_count": null,
   "metadata": {},
   "outputs": [],
   "source": [
    "# envi_data = envi.open('../data/real/jasper/jasper.hdr')\n",
    "# jasper_envi = envi_data[:,:,:]\n",
    "# jasper_path = '../data/real/jasper/jasper.mat'\n",
    "# data = sio.loadmat(jasper_path)\n",
    "# gt_jasper_path = '../data/real/jasper/jasper.gt'\n",
    "# gt = sio.loadmat(gt_jasper_path)\n",
    "# M_gt = gt['M']\n",
    "# Y = data['Y'][1:,:]\n",
    "# number_rows = data['nRow'][0][0]\n",
    "# number_columns = data['nCol'][0][0]\n",
    "# number_pixels = int(number_rows)*int(number_columns)\n",
    "# number_endmembers = M_gt.shape[1]\n",
    "# number_bands = Y.shape[0]\n",
    "# dimensions = [number_rows, number_columns, number_bands]"
   ]
  },
  {
   "cell_type": "markdown",
   "metadata": {},
   "source": [
    "# Ground Truth Cuprite"
   ]
  },
  {
   "cell_type": "code",
   "execution_count": null,
   "metadata": {},
   "outputs": [],
   "source": [
    "auxiliar.plot_endmembers(M_gt,number_endmembers,'r',r,c)"
   ]
  },
  {
   "cell_type": "markdown",
   "metadata": {},
   "source": [
    "# GAEE"
   ]
  },
  {
   "cell_type": "code",
   "execution_count": null,
   "metadata": {},
   "outputs": [],
   "source": [
    "[M, duration, generations_fitness, generations_population, number_generations] = evolutionary.GAEE(Y, dimensions, number_endmembers)\n",
    "print('running time:',duration)\n",
    "auxiliar.plot_endmembers(M,number_endmembers,color='b', r=r , c=c)\n",
    "auxiliar.plot_convergence(generations_fitness, number_generations)\n",
    "auxiliar.plot_genes(envi, generations_population, number_rows, band=30, number_generations=number_generations, r=2, c=2)"
   ]
  },
  {
   "cell_type": "markdown",
   "metadata": {},
   "source": [
    "# GAEE-IVFm"
   ]
  },
  {
   "cell_type": "code",
   "execution_count": null,
   "metadata": {},
   "outputs": [],
   "source": [
    "[M, duration, generations_fitness, generations_population, number_generations] = evolutionary.GAEE_IVFm(Y, dimensions, number_endmembers)\n",
    "print('running time:',duration)\n",
    "auxiliar.plot_endmembers(M,number_endmembers,color='b', r=r , c=c)\n",
    "auxiliar.plot_convergence(generations_fitness, number_generations)\n",
    "auxiliar.plot_genes(envi, generations_population, number_rows, band=30, number_generations=number_generations, r=2, c=2)"
   ]
  },
  {
   "cell_type": "markdown",
   "metadata": {},
   "source": [
    "# GAEEII"
   ]
  },
  {
   "cell_type": "code",
   "execution_count": null,
   "metadata": {},
   "outputs": [],
   "source": [
    "[M, other] = evolutionary.GAEEII(Y, dimensions, number_endmembers)\n",
    "print('running time:',duration)\n",
    "auxiliar.plot_endmembers(M,number_endmembers,color='b', r=r , c=c)\n",
    "auxiliar.plot_dual_convergence(generations_fitness_1,generations_fitness_2,number_generations)\n",
    "auxiliar.plot_genes(envi, generations_population, number_rows, band=30, number_generations=number_generations, r=2, c=2)"
   ]
  },
  {
   "cell_type": "markdown",
   "metadata": {},
   "source": [
    "# GAEEII-IVFm"
   ]
  },
  {
   "cell_type": "code",
   "execution_count": null,
   "metadata": {},
   "outputs": [],
   "source": [
    "[M, duration, generations_fitness_1, generations_fitness_2, generations_population, number_generations] = evolutionary.GAEEII_IVFm(Y, dimensions, number_endmembers)\n",
    "print('running time:',duration)\n",
    "auxiliar.plot_endmembers(M,number_endmembers,color='b', r=r , c=c)\n",
    "auxiliar.plot_dual_convergence(generations_fitness_1,generations_fitness_2,number_generations)\n",
    "auxiliar.plot_genes(envi, generations_population, number_rows, band=30, number_generations=number_generations, r=2, c=2)\n",
    "auxiliar.check_endmember_extraction(M, M_gt, 0.005)"
   ]
  },
  {
   "cell_type": "markdown",
   "metadata": {},
   "source": [
    "# COMPARER WITH TETACORDER"
   ]
  },
  {
   "cell_type": "code",
   "execution_count": null,
   "metadata": {},
   "outputs": [],
   "source": [
    "[M,\n",
    " duration,\n",
    " generations_fitness_1,\n",
    " generations_fitness_2,\n",
    " generations_population,\n",
    " number_generations] = evolutionary.GAEEII_IVFm(Y,\n",
    "                                                dimensions,\n",
    "                                                number_endmembers)\n",
    "\n",
    "new_M = np.zeros((ground_truth.shape[0],number_endmembers))\n",
    "new_M[null_bands,:] = None\n",
    "new_M[selected_bands[1:],:] = M\n",
    "print('running time:',duration)\n",
    "# auxiliar.plot_endmembers(M,number_endmembers,color='b', r=r , c=c)\n",
    "# auxiliar.plot_dual_convergence(generations_fitness_1,generations_fitness_2,number_generations)\n",
    "# auxiliar.plot_genes(envi, generations_population, number_rows, band=30, number_generations=number_generations, r=2, c=2)\n",
    "auxiliar.check_endmember_extraction(new_M, ground_truth, 0.005)"
   ]
  }
 ],
 "metadata": {
  "kernelspec": {
   "display_name": "Python 3",
   "language": "python",
   "name": "python3"
  },
  "language_info": {
   "codemirror_mode": {
    "name": "ipython",
    "version": 3
   },
   "file_extension": ".py",
   "mimetype": "text/x-python",
   "name": "python",
   "nbconvert_exporter": "python",
   "pygments_lexer": "ipython3",
   "version": "3.5.6"
  }
 },
 "nbformat": 4,
 "nbformat_minor": 2
}
